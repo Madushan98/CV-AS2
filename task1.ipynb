{
 "cells": [
  {
   "attachments": {},
   "cell_type": "markdown",
   "metadata": {},
   "source": [
    "### Take Home Assignment 2\n",
    "#### Ranasinghe K.K.P.M EG-2018-3432\n",
    "\n",
    "1.Consider an image with 2 objects and a total of 3-pixel values (1 for each object and one \n",
    "for the background). Add Gaussian noise to the image. Implement and test Otsu’s \n",
    "algorithm with this image."
   ]
  },
  {
   "cell_type": "code",
   "execution_count": 1,
   "metadata": {},
   "outputs": [],
   "source": [
    "import cv2\n",
    "import numpy as np\n",
    "from scipy.stats import gaussian_kde\n",
    "import matplotlib.pyplot as plt\n",
    "import matplotlib.image as mpimg"
   ]
  },
  {
   "cell_type": "code",
   "execution_count": 2,
   "metadata": {},
   "outputs": [],
   "source": [
    "# original image\n",
    "image = cv2.imread('image1.png', 0)\n",
    "f = image/255 \n"
   ]
  },
  {
   "cell_type": "code",
   "execution_count": 3,
   "metadata": {},
   "outputs": [],
   "source": [
    "# create gaussian noise\n",
    "x, y = f.shape\n",
    "mean = 0\n",
    "var = 0.01\n",
    "sigma = np.sqrt(var)\n",
    "n = np.random.normal(loc=mean, \n",
    "                     scale=sigma, \n",
    "                     size=(x,y))"
   ]
  },
  {
   "cell_type": "code",
   "execution_count": 4,
   "metadata": {},
   "outputs": [
    {
     "data": {
      "image/png": "[encoded data removed]",
      "text/plain": [
       "<Figure size 640x480 with 1 Axes>"
      ]
     },
     "metadata": {},
     "output_type": "display_data"
    }
   ],
   "source": [
    "# display the probability density function (pdf)\n",
    "kde = gaussian_kde(n.reshape(int(x*y)))\n",
    "dist_space = np.linspace(np.min(n), np.max(n), 100)\n",
    "plt.plot(dist_space, kde(dist_space))\n",
    "plt.xlabel('Noise pixel value'); plt.ylabel('Frequency')\n",
    "plt.show()"
   ]
  },
  {
   "cell_type": "code",
   "execution_count": 5,
   "metadata": {},
   "outputs": [],
   "source": [
    "# add noise to the image\n",
    "g = f + n\n"
   ]
  },
  {
   "cell_type": "code",
   "execution_count": 6,
   "metadata": {},
   "outputs": [],
   "source": [
    "# display all\n",
    "cv2.imshow('original image', f)\n",
    "cv2.imshow('Gaussian noise', n)\n",
    "cv2.imshow('Image after adding Gaussian noise', g)\n",
    "\n",
    "cv2.waitKey(0)\n",
    "cv2.destroyAllWindows()"
   ]
  },
  {
   "attachments": {},
   "cell_type": "markdown",
   "metadata": {},
   "source": [
    "Here is the result\n",
    "\n",
    "## Rendered Output\n",
    "|Original|Noise|Image With Noise|\n",
    "|:-:|:-:|:-:|\n",
    "|![Original](images/image1.png)|![Noise](images/gause_noise.png)|![Image With Noise](images/image_with_noise.png)"
   ]
  },
  {
   "cell_type": "code",
   "execution_count": 7,
   "metadata": {},
   "outputs": [],
   "source": [
    "def save_image(img,name):\n",
    "    img = cv2.convertScaleAbs(img, alpha=(255.0))\n",
    "    cv2.imwrite(name,img)"
   ]
  },
  {
   "cell_type": "code",
   "execution_count": 8,
   "metadata": {},
   "outputs": [],
   "source": [
    "save_image(f,\"original_image.png\")\n",
    "save_image(g,\"after_noise_image.png\")"
   ]
  },
  {
   "cell_type": "code",
   "execution_count": 9,
   "metadata": {},
   "outputs": [],
   "source": [
    "# get image with 0,255 values\n",
    "def norm_image(img):\n",
    "    img = cv2.convertScaleAbs(img, alpha=(255.0))\n",
    "    return img"
   ]
  },
  {
   "cell_type": "code",
   "execution_count": 10,
   "metadata": {},
   "outputs": [],
   "source": [
    "# Otsu's thresholding using OpenCV\n",
    "\n",
    "image = norm_image(g)\n",
    "\n",
    "ret1,th1 = cv2.threshold(image,0,255,cv2.THRESH_BINARY+cv2.THRESH_OTSU)\n",
    "\n",
    "cv2.imshow('Image after adding Gaussian noise', image)\n",
    "cv2.imshow('otsu threshold image', th1)\n",
    "\n",
    "cv2.waitKey(0)\n",
    "cv2.destroyAllWindows()"
   ]
  },
  {
   "attachments": {},
   "cell_type": "markdown",
   "metadata": {},
   "source": [
    "\n",
    "## Rendered Output\n",
    "|Image With Noise|Otsu Algorithm |\n",
    "|:-:|:-:|\n",
    "|![Image With Noise](images/image_with_noise.png)|![Original](images/otsu_threshold_image.png)|"
   ]
  },
  {
   "cell_type": "code",
   "execution_count": 13,
   "metadata": {},
   "outputs": [],
   "source": [
    "# otsu thresholding python implementation scratch\n",
    "def otsu_threshold(img):\n",
    "    histg = cv2.calcHist([img],[0],None,[255],[0,255])\n",
    "    within = []\n",
    "    between = []\n",
    "    d = 0\n",
    "    for i in range(len(histg)):\n",
    "        x,y =  np.split(histg,[i])\n",
    "        x1 = np.sum(x)/(img.shape[0]*img.shape[1]) #weight of class 1\n",
    "        y1 = np.sum(y)/(img.shape[0]*img.shape[1]) #weight of class 2\n",
    "        x2 = np.sum([j*t for j,t in enumerate(x)])/np.sum(x)\n",
    "        x2 = np.nan_to_num(x2)\n",
    "        y2 = np.sum([(j+d)*t for j,t in enumerate(y)])/np.sum(y)\n",
    "        x3 = np.sum([(j-x2)**2*t for j,t in enumerate(x)])/np.sum(x)\n",
    "        x3 = np.nan_to_num(x3)\n",
    "        y3 = np.sum([((j+d)-y2)**2*t for j,t in enumerate(y)])/np.sum(y)\n",
    "        d = d + 1\n",
    "        within.append(x1*x3 + y1*y3)\n",
    "        between.append(x1*y1*(x2-y2)*(x2-y2))\n",
    "\n",
    "    # get the index of the Within-class variance\n",
    "    m = np.argmin(within)    \n",
    "    # get the index of the Between-class variance\n",
    "    n = np.argmax(between)\n",
    "    return n "
   ]
  },
  {
   "cell_type": "code",
   "execution_count": 16,
   "metadata": {},
   "outputs": [
    {
     "name": "stderr",
     "output_type": "stream",
     "text": [
      "C:\\Users\\ranas\\AppData\\Local\\Temp\\ipykernel_16924\\4206548344.py:11: RuntimeWarning: invalid value encountered in double_scalars\n",
      "  x2 = np.sum([j*t for j,t in enumerate(x)])/np.sum(x)\n",
      "C:\\Users\\ranas\\AppData\\Local\\Temp\\ipykernel_16924\\4206548344.py:14: RuntimeWarning: invalid value encountered in double_scalars\n",
      "  x3 = np.sum([(j-x2)**2*t for j,t in enumerate(x)])/np.sum(x)\n"
     ]
    }
   ],
   "source": [
    "n = otsu_threshold(image)\n",
    "(thresh, Bin) = cv2.threshold(image, n, 255, cv2.THRESH_BINARY )\n",
    "cv2.imshow('otsuscratch implementation',Bin)\n",
    "cv2.imshow('otsu openCV imlementation', th1)\n",
    "cv2.waitKey(0)\n",
    "cv2.destroyAllWindows()"
   ]
  },
  {
   "attachments": {},
   "cell_type": "markdown",
   "metadata": {},
   "source": [
    "## Rendered Output\n",
    "|Otsu OpenCV|Otsu Python Code|\n",
    "|:-:|:-:|\n",
    "|![Otsu OpenCV](images/otsu_threshold_image.png)|![Otsu Sctrach](images/otsu_scratch.png)|"
   ]
  }
 ],
 "metadata": {
  "kernelspec": {
   "display_name": "my_init",
   "language": "python",
   "name": "python3"
  },
  "language_info": {
   "codemirror_mode": {
    "name": "ipython",
    "version": 3
   },
   "file_extension": ".py",
   "mimetype": "text/x-python",
   "name": "python",
   "nbconvert_exporter": "python",
   "pygments_lexer": "ipython3",
   "version": "3.9.15"
  },
  "orig_nbformat": 4
 },
 "nbformat": 4,
 "nbformat_minor": 2
}
