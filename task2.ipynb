{
 "cells": [
  {
   "attachments": {},
   "cell_type": "markdown",
   "metadata": {},
   "source": [
    "### Take Home Assignment 2\n",
    "#### Ranasinghe K.K.P.M EG-2018-3432\n",
    "\n",
    "2.Implement a region-growing technique for image segmentation. The basic idea is to start from a set of points inside the object of interest (foreground), denoted as seeds, and  recursively add neighboring pixels as long as they are in a pre-defined range of the pixel  values of the seeds.\n"
   ]
  },
  {
   "cell_type": "code",
   "execution_count": 1,
   "metadata": {},
   "outputs": [],
   "source": [
    "import cv2\n",
    "import numpy as np\n",
    "from scipy.stats import gaussian_kde\n",
    "import matplotlib.pyplot as plt\n",
    "import matplotlib.image as mpimg"
   ]
  },
  {
   "cell_type": "code",
   "execution_count": 2,
   "metadata": {},
   "outputs": [],
   "source": [
    "# Read image\n",
    "image = cv2.imread('CT.png', 0)\n",
    "\n",
    "cv2.imshow('Original', image)\n",
    "cv2.waitKey(0)\n",
    "cv2.destroyAllWindows()"
   ]
  },
  {
   "attachments": {},
   "cell_type": "markdown",
   "metadata": {},
   "source": [
    "## Rendered Output\n",
    "|ORIGNAL IMAGE|\n",
    "|:-:|\n",
    "|![ORIGNAL IMAGE](CT.png)|"
   ]
  },
  {
   "cell_type": "code",
   "execution_count": 3,
   "metadata": {},
   "outputs": [],
   "source": [
    "seed_set = [] # seed set"
   ]
  },
  {
   "cell_type": "code",
   "execution_count": 4,
   "metadata": {},
   "outputs": [],
   "source": [
    "# Mouse callback function\n",
    "def mouseCallback(event, x, y, flags, userdata):\n",
    "    if event == cv2.EVENT_LBUTTONDOWN:\n",
    "        seed_set.append((x, y))\n",
    "        p_image = userdata\n",
    "        colour = (0, 0, 255)\n",
    "        cv2.circle(p_image, (x, y), 4, colour, cv2.FILLED)\n",
    "        cv2.imshow(\"CT slice\", p_image)"
   ]
  },
  {
   "cell_type": "code",
   "execution_count": 5,
   "metadata": {},
   "outputs": [],
   "source": [
    "# Convert image to RGB\n",
    "colour_ct_slice = cv2.cvtColor(image, cv2.COLOR_GRAY2RGB)\n",
    "\n",
    "cv2.namedWindow(\"CT slice\", cv2.WINDOW_AUTOSIZE)  # Create a window\n",
    "cv2.imshow(\"CT slice\", colour_ct_slice)  # Show our image inside the created window\n",
    "cv2.setMouseCallback(\"CT slice\", mouseCallback, colour_ct_slice)  # Register the callback function\n",
    "cv2.waitKey(0)\n",
    "cv2.destroyAllWindows()"
   ]
  },
  {
   "cell_type": "code",
   "execution_count": 6,
   "metadata": {},
   "outputs": [
    {
     "name": "stdout",
     "output_type": "stream",
     "text": [
      "[(171, 191), (139, 216), (338, 207), (366, 233)]\n"
     ]
    }
   ],
   "source": [
    "print(seed_set)"
   ]
  },
  {
   "cell_type": "code",
   "execution_count": 7,
   "metadata": {},
   "outputs": [
    {
     "data": {
      "text/plain": [
       "7"
      ]
     },
     "execution_count": 7,
     "metadata": {},
     "output_type": "execute_result"
    }
   ],
   "source": [
    "image[212,41]"
   ]
  },
  {
   "attachments": {},
   "cell_type": "markdown",
   "metadata": {},
   "source": [
    "## Rendered Output\n",
    "|SEED IMAGE|\n",
    "|:-:|\n",
    "|![Otsu OpenCV](seed_points.png)|"
   ]
  },
  {
   "cell_type": "code",
   "execution_count": 8,
   "metadata": {},
   "outputs": [],
   "source": [
    "# Region growing algorithm\n",
    "def regionGrowing(anImage, aSeedSet, anInValue=255, tolerance=20):\n",
    "    # boolean array/matrix, same size as image\n",
    "    # all the pixels are initialised to false\n",
    "    visited_matrix = np.zeros((anImage.shape[0], anImage.shape[1]), dtype=np.uint8)\n",
    "    point_list = aSeedSet.copy()\n",
    "    while len(point_list) > 0:\n",
    "        # Get a point from the list\n",
    "        this_point = point_list.pop()\n",
    "        x = this_point[0]  \n",
    "        y = this_point[1]\n",
    "      \n",
    "        pixel_value = anImage[y, x]\n",
    "\n",
    "        # Visit the point\n",
    "        visited_matrix[y, x] = anInValue\n",
    "  \n",
    "\n",
    "        # for each neighbour of this_point\n",
    "        for j in range(y - 1, y + 2):\n",
    "            # vertical index is valid\n",
    "            if 0 <= j < anImage.shape[0]:\n",
    "                for i in range(x - 1, x + 2):\n",
    "                    # horizontal index is valid\n",
    "                    if 0 <= i < anImage.shape[1]:\n",
    "                        neighbour_value = anImage[j, i]\n",
    "                        neighbour_visited = visited_matrix[j, i]\n",
    "                        # print(\"this_point: %d, %d ; pixel_value : %d\" % (x, y,pixel_value))\n",
    "                        # print(\"neighbour_value: %d , neigbour_visited: %s\"% ( neighbour_value, neighbour_visited))\n",
    "                        # print(\"abs(neighbour_value - pixel_value) : %d\" % (abs(int(neighbour_value) - int(pixel_value))))\n",
    "                        if (not neighbour_visited) and (abs(int(neighbour_value) - int(pixel_value)) <= ((tolerance / 100.0) * 255.0)): # neighbour is similar to this_point\n",
    "                            # print(point_list)\n",
    "                            point_list.append((i, j))\n",
    "                        \n",
    "    return visited_matrix"
   ]
  },
  {
   "cell_type": "code",
   "execution_count": 9,
   "metadata": {},
   "outputs": [],
   "source": [
    "# Call region growing algorithm and display segmented image\n",
    "segmented_image = regionGrowing(image, seed_set,255, 2)\n",
    "cv2.imshow('Segmented image', segmented_image)\n",
    "cv2.waitKey(0)\n",
    "cv2.destroyAllWindows()"
   ]
  },
  {
   "attachments": {},
   "cell_type": "markdown",
   "metadata": {},
   "source": [
    "## Rendered Output\n",
    "|SEED IMAGE|SEGMENTED IMAGE|\n",
    "|:-:|:-:|\n",
    "|![SEED IMAGE](seed_points.png)|![SEGMENTED IMAGE](segmneted_image.png)|"
   ]
  }
 ],
 "metadata": {
  "kernelspec": {
   "display_name": "my_init",
   "language": "python",
   "name": "python3"
  },
  "language_info": {
   "codemirror_mode": {
    "name": "ipython",
    "version": 3
   },
   "file_extension": ".py",
   "mimetype": "text/x-python",
   "name": "python",
   "nbconvert_exporter": "python",
   "pygments_lexer": "ipython3",
   "version": "3.9.15"
  },
  "orig_nbformat": 4
 },
 "nbformat": 4,
 "nbformat_minor": 2
}
